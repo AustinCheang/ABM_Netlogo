{
 "cells": [
  {
   "cell_type": "code",
   "execution_count": 95,
   "metadata": {},
   "outputs": [],
   "source": [
    "import numpy as np\n",
    "import pandas as pd\n",
    "import os\n",
    "import re"
   ]
  },
  {
   "cell_type": "markdown",
   "metadata": {},
   "source": [
    "# Load Data + Calculate Payoffs"
   ]
  },
  {
   "cell_type": "code",
   "execution_count": 123,
   "metadata": {},
   "outputs": [],
   "source": [
    "def load_csv(filename, skip_rows):\n",
    "    df = pd.read_csv(filename, skiprows=skip_rows, header=0)\n",
    "    df.drop(df.columns[0], axis=1, inplace=True)\n",
    "    return df\n",
    "\n",
    "def calculate_avg(df): # prints dataframe to check\n",
    "    df_even = df.iloc[:, 0::6]\n",
    "    display(df_even)\n",
    "    even_row_avg = df_even.iloc[-1].mean()\n",
    "    print('AVG Cumulative Profit of retailer 0:', even_row_avg)\n",
    "    \n",
    "    df_odd = df.iloc[:, 3::6]\n",
    "    display(df_odd)\n",
    "    odd_row_avg = df_odd.iloc[-1].mean()\n",
    "    print('AVG Cumulative Profit of retailer 1:', odd_row_avg)\n",
    "\n",
    "def calculate_payoffs(df):\n",
    "    retailer_0 = df.iloc[:, 0::6]\n",
    "    retailer_0_payoff = round(retailer_0.iloc[-1].mean(), 2)\n",
    "    \n",
    "    retailer_1 = df.iloc[:, 3::6]\n",
    "    retailer_1_payoff = round(retailer_1.iloc[-1].mean(), 2)\n",
    "    return (retailer_0_payoff, retailer_1_payoff)\n",
    "\n",
    "def get_column_dominant(lst):\n",
    "    payoffs = [eval(s)[1] for s in lst]\n",
    "    max_payoff = max(payoffs)\n",
    "    dominant_index = payoffs.index(max_payoff)\n",
    "    opponent_payoff = lst[dominant_index].strip('[').split(',')[0]\n",
    "    dominant_str = f'[{opponent_payoff}, {max_payoff}*]'\n",
    "    return (dominant_index, dominant_str)\n",
    "\n",
    "def get_row_dominant(lst):\n",
    "    payoffs = [float(s.strip('[').split(',')[0]) for s in lst]\n",
    "    max_payoff = max(payoffs)\n",
    "    dominant_index = payoffs.index(max_payoff)\n",
    "    opponent_payoff = lst[dominant_index].strip(']').split(', ')[1]\n",
    "    dominnant_str = f'[{max_payoff}*, {opponent_payoff}]'\n",
    "    return (dominant_index, dominnant_str)\n",
    "\n",
    "def construct_payoff_table():\n",
    "    columns = ['S1', 'S2', 'S3', 'S4', 'S5', 'S6']\n",
    "    payoffs = [['x' for y in range(6)] for x in range(6)]\n",
    "    \n",
    "    # generate payoff table\n",
    "    for i in range(1, len(payoffs)+1):\n",
    "        for j in range(1, len(payoffs)+1):\n",
    "            filename = f'./experiment_data/S{i}_S{j}.csv'\n",
    "            if os.path.isfile(filename):\n",
    "                df = load_csv(filename, 34)\n",
    "                payoff =  calculate_payoffs(df)\n",
    "                payoff_str = f'[{payoff[0]}, {payoff[1]}]'\n",
    "                payoffs[i-1][j-1] = payoff_str\n",
    "\n",
    "    # mark dominant strategies in retailer 1's perspective\n",
    "    for i in range(0, len(payoffs)):\n",
    "        cur_row = payoffs[i]\n",
    "        (dominant_index, dominant_str) = get_column_dominant(cur_row)\n",
    "        payoffs[i][dominant_index] = dominant_str\n",
    "    \n",
    "    # mark dominant strategies in retailer 0's perspective\n",
    "    for i in range(0, len(payoffs)):\n",
    "        cur_column = [row[i] for row in payoffs]\n",
    "        (dominant_index, dominant_str) = get_row_dominant(cur_column)\n",
    "        payoffs[dominant_index][i] = dominant_str\n",
    "\n",
    "    # convert to dataframe\n",
    "    table = pd.DataFrame(payoffs, columns=columns)\n",
    "    table = table.rename(index={0: 'S1', 1: 'S2', 2: 'S3', 3: 'S4', 4: 'S5', 5: 'S6'})\n",
    "    display(table)\n",
    "\n",
    "def cal_avg(po1, po2):\n",
    "    avg_1 = round((po1[0] + po2[0])/2, 2)\n",
    "    avg_2 = round((po1[1] + po2[1])/2, 2)\n",
    "    return (avg_1, avg_2)\n",
    "\n",
    "def construct_payoff_table_for_weightings(columns, num_row, num_column, naming, weighting, index_dict, row_start=0, column_start=0):\n",
    "    weighting_str = f'{naming}{weighting}'\n",
    "    payoffs = [['x' for y in range(num_column)] for x in range(num_row)]\n",
    "    \n",
    "    print('************ Files used: **************')\n",
    "    # generate payoff table\n",
    "    for i in range(1, num_row+1):\n",
    "        for j in range(1, num_column+1):\n",
    "            filename = f'./experiment_data/S{i+row_start}_S{j+column_start}{weighting_str}.csv'\n",
    "            payoff_str = ''\n",
    "            if os.path.isfile(filename):\n",
    "                print('->', filename)\n",
    "                df = load_csv(filename, 34)\n",
    "                payoff =  calculate_payoffs(df)\n",
    "                \n",
    "                check_orig = f'./experiment_data/S{i+row_start}_S{j+column_start}_price_{weighting}.csv'\n",
    "                check_bis = f'./experiment_data/S{i+row_start}_S{j+column_start}_price_bis_{weighting}.csv'\n",
    "\n",
    "                if re.match(r'.*_price_\\d.*', filename) and os.path.isfile(check_bis):\n",
    "                    print('->', check_bis)\n",
    "                    df_bis = load_csv(check_bis, 34)\n",
    "                    bis_payoff = calculate_payoffs(df_bis)\n",
    "                    avg_payoffs_ = cal_avg(payoff, bis_payoff)\n",
    "                    payoff_str = f'[{avg_payoffs_[0]}, {avg_payoffs_[1]}]'\n",
    "                elif re.match(r'.*_price_bis_\\d.*', filename) and os.path.isfile(check_orig):\n",
    "                    print('->', check_orig)\n",
    "                    df_orig = load_csv(check_orig, 34)\n",
    "                    orig_payoff = calculate_payoffs(df_orig)\n",
    "                    avg_payoffs_ = cal_avg(payoff, orig_payoff)\n",
    "                    payoff_str = f'[{avg_payoffs_[0]}, {avg_payoffs_[1]}]'\n",
    "                else:\n",
    "                    payoff_str = f'[{payoff[0]}, {payoff[1]}]'\n",
    "                    \n",
    "                payoffs[i-1][j-1] = payoff_str\n",
    "                \n",
    "    # mark dominant strategies in retailer 1's perspective\n",
    "    for i in range(0, num_row):\n",
    "        cur_row = payoffs[i]\n",
    "        (dominant_index, dominant_str) = get_column_dominant(cur_row)\n",
    "        payoffs[i][dominant_index] = dominant_str\n",
    "    \n",
    "    # mark dominant strategies in retailer 0's perspective\n",
    "    for i in range(0, num_column):\n",
    "        cur_column = [row[i] for row in payoffs]\n",
    "        (dominant_index, dominant_str) = get_row_dominant(cur_column)\n",
    "        payoffs[dominant_index][i] = dominant_str\n",
    "\n",
    "    # convert to dataframe\n",
    "    table = pd.DataFrame(payoffs, columns=columns)\n",
    "    table = table.rename(index=index_dict)\n",
    "    display(table)"
   ]
  },
  {
   "cell_type": "markdown",
   "metadata": {},
   "source": [
    "# Payoff table of Price weight=2 => focus on NE (S4, S1)"
   ]
  },
  {
   "cell_type": "code",
   "execution_count": 124,
   "metadata": {},
   "outputs": [],
   "source": [
    "general_index_for_S4_S1_single_column = {0: 'S1', 1: 'S2', 2: 'S3', 3: 'S4', 4: 'S5', 5: 'S6'}\n",
    "general_index_for_S4_S1_single_row = {0:'S4'}\n",
    "columns_for_S4_S1 = ['S1', 'S2', 'S3', 'S4', 'S5', 'S6']"
   ]
  },
  {
   "cell_type": "code",
   "execution_count": 125,
   "metadata": {},
   "outputs": [
    {
     "name": "stdout",
     "output_type": "stream",
     "text": [
      "************ Files used: **************\n",
      "-> ./experiment_data/S1_S1_price_2.csv\n",
      "-> ./experiment_data/S2_S1_price_2.csv\n",
      "-> ./experiment_data/S2_S1_price_bis_2.csv\n",
      "-> ./experiment_data/S3_S1_price_2.csv\n",
      "-> ./experiment_data/S4_S1_price_2.csv\n",
      "-> ./experiment_data/S5_S1_price_2.csv\n",
      "-> ./experiment_data/S6_S1_price_2.csv\n"
     ]
    },
    {
     "data": {
      "text/html": [
       "<div>\n",
       "<style scoped>\n",
       "    .dataframe tbody tr th:only-of-type {\n",
       "        vertical-align: middle;\n",
       "    }\n",
       "\n",
       "    .dataframe tbody tr th {\n",
       "        vertical-align: top;\n",
       "    }\n",
       "\n",
       "    .dataframe thead th {\n",
       "        text-align: right;\n",
       "    }\n",
       "</style>\n",
       "<table border=\"1\" class=\"dataframe\">\n",
       "  <thead>\n",
       "    <tr style=\"text-align: right;\">\n",
       "      <th></th>\n",
       "      <th>S1</th>\n",
       "    </tr>\n",
       "  </thead>\n",
       "  <tbody>\n",
       "    <tr>\n",
       "      <th>S1</th>\n",
       "      <td>[195018.75, 199574.35*]</td>\n",
       "    </tr>\n",
       "    <tr>\n",
       "      <th>S2</th>\n",
       "      <td>[253094.72*, 230575.55*]</td>\n",
       "    </tr>\n",
       "    <tr>\n",
       "      <th>S3</th>\n",
       "      <td>[234221.0, 253022.4*]</td>\n",
       "    </tr>\n",
       "    <tr>\n",
       "      <th>S4</th>\n",
       "      <td>[185731.0, 249841.35*]</td>\n",
       "    </tr>\n",
       "    <tr>\n",
       "      <th>S5</th>\n",
       "      <td>[231363.5, 224496.8*]</td>\n",
       "    </tr>\n",
       "    <tr>\n",
       "      <th>S6</th>\n",
       "      <td>[222494.0, 258300.6*]</td>\n",
       "    </tr>\n",
       "  </tbody>\n",
       "</table>\n",
       "</div>"
      ],
      "text/plain": [
       "                          S1\n",
       "S1   [195018.75, 199574.35*]\n",
       "S2  [253094.72*, 230575.55*]\n",
       "S3     [234221.0, 253022.4*]\n",
       "S4    [185731.0, 249841.35*]\n",
       "S5     [231363.5, 224496.8*]\n",
       "S6     [222494.0, 258300.6*]"
      ]
     },
     "metadata": {},
     "output_type": "display_data"
    }
   ],
   "source": [
    "construct_payoff_table_for_weightings(['S1'], 6, 1, '_price_', 2, general_index_for_S4_S1_single_column)"
   ]
  },
  {
   "cell_type": "code",
   "execution_count": 126,
   "metadata": {},
   "outputs": [
    {
     "name": "stdout",
     "output_type": "stream",
     "text": [
      "************ Files used: **************\n",
      "-> ./experiment_data/S4_S1_price_2.csv\n",
      "-> ./experiment_data/S4_S2_price_2.csv\n",
      "-> ./experiment_data/S4_S3_price_2.csv\n",
      "-> ./experiment_data/S4_S3_price_bis_2.csv\n",
      "-> ./experiment_data/S4_S4_price_2.csv\n",
      "-> ./experiment_data/S4_S5_price_2.csv\n",
      "-> ./experiment_data/S4_S6_price_2.csv\n"
     ]
    },
    {
     "data": {
      "text/html": [
       "<div>\n",
       "<style scoped>\n",
       "    .dataframe tbody tr th:only-of-type {\n",
       "        vertical-align: middle;\n",
       "    }\n",
       "\n",
       "    .dataframe tbody tr th {\n",
       "        vertical-align: top;\n",
       "    }\n",
       "\n",
       "    .dataframe thead th {\n",
       "        text-align: right;\n",
       "    }\n",
       "</style>\n",
       "<table border=\"1\" class=\"dataframe\">\n",
       "  <thead>\n",
       "    <tr style=\"text-align: right;\">\n",
       "      <th></th>\n",
       "      <th>S1</th>\n",
       "      <th>S2</th>\n",
       "      <th>S3</th>\n",
       "      <th>S4</th>\n",
       "      <th>S5</th>\n",
       "      <th>S6</th>\n",
       "    </tr>\n",
       "  </thead>\n",
       "  <tbody>\n",
       "    <tr>\n",
       "      <th>S4</th>\n",
       "      <td>[185731.0*, 249841.35*]</td>\n",
       "      <td>[183350.75*, 216939.8]</td>\n",
       "      <td>[224823.38*, 239784.5]</td>\n",
       "      <td>[194708.0*, 226403.25]</td>\n",
       "      <td>[87107.0*, 102313.0]</td>\n",
       "      <td>[87651.75*, 60382.5]</td>\n",
       "    </tr>\n",
       "  </tbody>\n",
       "</table>\n",
       "</div>"
      ],
      "text/plain": [
       "                         S1                      S2                      S3  \\\n",
       "S4  [185731.0*, 249841.35*]  [183350.75*, 216939.8]  [224823.38*, 239784.5]   \n",
       "\n",
       "                        S4                    S5                    S6  \n",
       "S4  [194708.0*, 226403.25]  [87107.0*, 102313.0]  [87651.75*, 60382.5]  "
      ]
     },
     "metadata": {},
     "output_type": "display_data"
    }
   ],
   "source": [
    "construct_payoff_table_for_weightings(columns_for_S4_S1, 1, 6, '_price_', 2, general_index_for_S4_S1_single_row, 3)"
   ]
  },
  {
   "cell_type": "markdown",
   "metadata": {},
   "source": [
    "# Payoff table of Price weight=6 => focus on NE (S4, S1)"
   ]
  },
  {
   "cell_type": "code",
   "execution_count": 127,
   "metadata": {},
   "outputs": [
    {
     "name": "stdout",
     "output_type": "stream",
     "text": [
      "************ Files used: **************\n",
      "-> ./experiment_data/S1_S1_price_6.csv\n",
      "-> ./experiment_data/S2_S1_price_6.csv\n",
      "-> ./experiment_data/S2_S1_price_bis_6.csv\n",
      "-> ./experiment_data/S3_S1_price_6.csv\n",
      "-> ./experiment_data/S4_S1_price_6.csv\n",
      "-> ./experiment_data/S5_S1_price_6.csv\n",
      "-> ./experiment_data/S6_S1_price_6.csv\n"
     ]
    },
    {
     "data": {
      "text/html": [
       "<div>\n",
       "<style scoped>\n",
       "    .dataframe tbody tr th:only-of-type {\n",
       "        vertical-align: middle;\n",
       "    }\n",
       "\n",
       "    .dataframe tbody tr th {\n",
       "        vertical-align: top;\n",
       "    }\n",
       "\n",
       "    .dataframe thead th {\n",
       "        text-align: right;\n",
       "    }\n",
       "</style>\n",
       "<table border=\"1\" class=\"dataframe\">\n",
       "  <thead>\n",
       "    <tr style=\"text-align: right;\">\n",
       "      <th></th>\n",
       "      <th>S1</th>\n",
       "    </tr>\n",
       "  </thead>\n",
       "  <tbody>\n",
       "    <tr>\n",
       "      <th>S1</th>\n",
       "      <td>[210715.65, 132990.35*]</td>\n",
       "    </tr>\n",
       "    <tr>\n",
       "      <th>S2</th>\n",
       "      <td>[256517.47, 195554.15*]</td>\n",
       "    </tr>\n",
       "    <tr>\n",
       "      <th>S3</th>\n",
       "      <td>[242176.75, 197992.65*]</td>\n",
       "    </tr>\n",
       "    <tr>\n",
       "      <th>S4</th>\n",
       "      <td>[238284.25, 214720.25*]</td>\n",
       "    </tr>\n",
       "    <tr>\n",
       "      <th>S5</th>\n",
       "      <td>[237910.5, 199162.15*]</td>\n",
       "    </tr>\n",
       "    <tr>\n",
       "      <th>S6</th>\n",
       "      <td>[267071.0*, 218650.1*]</td>\n",
       "    </tr>\n",
       "  </tbody>\n",
       "</table>\n",
       "</div>"
      ],
      "text/plain": [
       "                         S1\n",
       "S1  [210715.65, 132990.35*]\n",
       "S2  [256517.47, 195554.15*]\n",
       "S3  [242176.75, 197992.65*]\n",
       "S4  [238284.25, 214720.25*]\n",
       "S5   [237910.5, 199162.15*]\n",
       "S6   [267071.0*, 218650.1*]"
      ]
     },
     "metadata": {},
     "output_type": "display_data"
    }
   ],
   "source": [
    "construct_payoff_table_for_weightings(['S1'], 6, 1, '_price_', 6, general_index_for_S4_S1)"
   ]
  },
  {
   "cell_type": "code",
   "execution_count": 128,
   "metadata": {},
   "outputs": [
    {
     "name": "stdout",
     "output_type": "stream",
     "text": [
      "************ Files used: **************\n",
      "-> ./experiment_data/S4_S1_price_6.csv\n",
      "-> ./experiment_data/S4_S2_price_6.csv\n",
      "-> ./experiment_data/S4_S3_price_6.csv\n",
      "-> ./experiment_data/S4_S3_price_bis_6.csv\n",
      "-> ./experiment_data/S4_S4_price_6.csv\n",
      "-> ./experiment_data/S4_S5_price_6.csv\n",
      "-> ./experiment_data/S4_S6_price_6.csv\n"
     ]
    },
    {
     "data": {
      "text/html": [
       "<div>\n",
       "<style scoped>\n",
       "    .dataframe tbody tr th:only-of-type {\n",
       "        vertical-align: middle;\n",
       "    }\n",
       "\n",
       "    .dataframe tbody tr th {\n",
       "        vertical-align: top;\n",
       "    }\n",
       "\n",
       "    .dataframe thead th {\n",
       "        text-align: right;\n",
       "    }\n",
       "</style>\n",
       "<table border=\"1\" class=\"dataframe\">\n",
       "  <thead>\n",
       "    <tr style=\"text-align: right;\">\n",
       "      <th></th>\n",
       "      <th>S1</th>\n",
       "      <th>S2</th>\n",
       "      <th>S3</th>\n",
       "      <th>S4</th>\n",
       "      <th>S5</th>\n",
       "      <th>S6</th>\n",
       "    </tr>\n",
       "  </thead>\n",
       "  <tbody>\n",
       "    <tr>\n",
       "      <th>S4</th>\n",
       "      <td>[238284.25*, 214720.25*]</td>\n",
       "      <td>[125558.0*, 120248.4]</td>\n",
       "      <td>[167392.5*, 150284.25]</td>\n",
       "      <td>[164330.5*, 156036.0]</td>\n",
       "      <td>[155243.5*, 158404.5]</td>\n",
       "      <td>[105691.5*, 81768.5]</td>\n",
       "    </tr>\n",
       "  </tbody>\n",
       "</table>\n",
       "</div>"
      ],
      "text/plain": [
       "                          S1                     S2                      S3  \\\n",
       "S4  [238284.25*, 214720.25*]  [125558.0*, 120248.4]  [167392.5*, 150284.25]   \n",
       "\n",
       "                       S4                     S5                    S6  \n",
       "S4  [164330.5*, 156036.0]  [155243.5*, 158404.5]  [105691.5*, 81768.5]  "
      ]
     },
     "metadata": {},
     "output_type": "display_data"
    }
   ],
   "source": [
    "construct_payoff_table_for_weightings(columns_for_S4_S1, 1, 6, '_price_', 6, general_index_for_S4_S1_single_row, 3)"
   ]
  },
  {
   "cell_type": "markdown",
   "metadata": {},
   "source": [
    "# Payoff table of Price weight=10 => focus on NE (S4, S1)"
   ]
  },
  {
   "cell_type": "code",
   "execution_count": 129,
   "metadata": {},
   "outputs": [
    {
     "name": "stdout",
     "output_type": "stream",
     "text": [
      "************ Files used: **************\n",
      "-> ./experiment_data/S1_S1_price_10.csv\n",
      "-> ./experiment_data/S2_S1_price_10.csv\n",
      "-> ./experiment_data/S2_S1_price_bis_10.csv\n",
      "-> ./experiment_data/S3_S1_price_10.csv\n",
      "-> ./experiment_data/S4_S1_price_10.csv\n",
      "-> ./experiment_data/S5_S1_price_10.csv\n",
      "-> ./experiment_data/S6_S1_price_10.csv\n"
     ]
    },
    {
     "data": {
      "text/html": [
       "<div>\n",
       "<style scoped>\n",
       "    .dataframe tbody tr th:only-of-type {\n",
       "        vertical-align: middle;\n",
       "    }\n",
       "\n",
       "    .dataframe tbody tr th {\n",
       "        vertical-align: top;\n",
       "    }\n",
       "\n",
       "    .dataframe thead th {\n",
       "        text-align: right;\n",
       "    }\n",
       "</style>\n",
       "<table border=\"1\" class=\"dataframe\">\n",
       "  <thead>\n",
       "    <tr style=\"text-align: right;\">\n",
       "      <th></th>\n",
       "      <th>S1</th>\n",
       "    </tr>\n",
       "  </thead>\n",
       "  <tbody>\n",
       "    <tr>\n",
       "      <th>S1</th>\n",
       "      <td>[215655.3, 105533.1*]</td>\n",
       "    </tr>\n",
       "    <tr>\n",
       "      <th>S2</th>\n",
       "      <td>[229937.97, 162951.53*]</td>\n",
       "    </tr>\n",
       "    <tr>\n",
       "      <th>S3</th>\n",
       "      <td>[239466.75, 160783.75*]</td>\n",
       "    </tr>\n",
       "    <tr>\n",
       "      <th>S4</th>\n",
       "      <td>[248395.75*, 201163.6*]</td>\n",
       "    </tr>\n",
       "    <tr>\n",
       "      <th>S5</th>\n",
       "      <td>[224352.0, 177530.7*]</td>\n",
       "    </tr>\n",
       "    <tr>\n",
       "      <th>S6</th>\n",
       "      <td>[95830.5, 71869.5*]</td>\n",
       "    </tr>\n",
       "  </tbody>\n",
       "</table>\n",
       "</div>"
      ],
      "text/plain": [
       "                         S1\n",
       "S1    [215655.3, 105533.1*]\n",
       "S2  [229937.97, 162951.53*]\n",
       "S3  [239466.75, 160783.75*]\n",
       "S4  [248395.75*, 201163.6*]\n",
       "S5    [224352.0, 177530.7*]\n",
       "S6      [95830.5, 71869.5*]"
      ]
     },
     "metadata": {},
     "output_type": "display_data"
    }
   ],
   "source": [
    "construct_payoff_table_for_weightings(['S1'], 6, 1, '_price_', 10, general_index_for_S4_S1)"
   ]
  },
  {
   "cell_type": "code",
   "execution_count": 130,
   "metadata": {},
   "outputs": [
    {
     "name": "stdout",
     "output_type": "stream",
     "text": [
      "************ Files used: **************\n",
      "-> ./experiment_data/S4_S1_price_10.csv\n",
      "-> ./experiment_data/S4_S2_price_10.csv\n",
      "-> ./experiment_data/S4_S3_price_10.csv\n",
      "-> ./experiment_data/S4_S3_price_bis_10.csv\n",
      "-> ./experiment_data/S4_S4_price_10.csv\n",
      "-> ./experiment_data/S4_S5_price_10.csv\n",
      "-> ./experiment_data/S4_S6_price_10.csv\n"
     ]
    },
    {
     "data": {
      "text/html": [
       "<div>\n",
       "<style scoped>\n",
       "    .dataframe tbody tr th:only-of-type {\n",
       "        vertical-align: middle;\n",
       "    }\n",
       "\n",
       "    .dataframe tbody tr th {\n",
       "        vertical-align: top;\n",
       "    }\n",
       "\n",
       "    .dataframe thead th {\n",
       "        text-align: right;\n",
       "    }\n",
       "</style>\n",
       "<table border=\"1\" class=\"dataframe\">\n",
       "  <thead>\n",
       "    <tr style=\"text-align: right;\">\n",
       "      <th></th>\n",
       "      <th>S1</th>\n",
       "      <th>S2</th>\n",
       "      <th>S3</th>\n",
       "      <th>S4</th>\n",
       "      <th>S5</th>\n",
       "      <th>S6</th>\n",
       "    </tr>\n",
       "  </thead>\n",
       "  <tbody>\n",
       "    <tr>\n",
       "      <th>S4</th>\n",
       "      <td>[248395.75*, 201163.6*]</td>\n",
       "      <td>[95675.25*, 91256.2]</td>\n",
       "      <td>[118569.12*, 103293.38]</td>\n",
       "      <td>[42682.5*, 40310.25]</td>\n",
       "      <td>[90856.0*, 76827.5]</td>\n",
       "      <td>[67475.25*, 58088.0]</td>\n",
       "    </tr>\n",
       "  </tbody>\n",
       "</table>\n",
       "</div>"
      ],
      "text/plain": [
       "                         S1                    S2                       S3  \\\n",
       "S4  [248395.75*, 201163.6*]  [95675.25*, 91256.2]  [118569.12*, 103293.38]   \n",
       "\n",
       "                      S4                   S5                    S6  \n",
       "S4  [42682.5*, 40310.25]  [90856.0*, 76827.5]  [67475.25*, 58088.0]  "
      ]
     },
     "metadata": {},
     "output_type": "display_data"
    }
   ],
   "source": [
    "construct_payoff_table_for_weightings(columns_for_S4_S1, 1, 6, '_price_', 10, general_index_for_S4_S1_single_row, 3)"
   ]
  },
  {
   "cell_type": "markdown",
   "metadata": {},
   "source": [
    "========================================================="
   ]
  },
  {
   "cell_type": "markdown",
   "metadata": {},
   "source": [
    "# Payoff table of Price weight=2 => focus on NE (S2, S3)"
   ]
  },
  {
   "cell_type": "code",
   "execution_count": 88,
   "metadata": {},
   "outputs": [],
   "source": [
    "general_index_for_S2_S3_single_column = {0: 'S1', 1: 'S2', 2: 'S3', 3: 'S4', 4: 'S5', 5: 'S6'}\n",
    "general_index_for_S2_S3_single_row = {0:'S2'}\n",
    "columns_for_S2_S3 = ['S1', 'S2', 'S3', 'S4', 'S5', 'S6']"
   ]
  },
  {
   "cell_type": "code",
   "execution_count": 131,
   "metadata": {},
   "outputs": [
    {
     "name": "stdout",
     "output_type": "stream",
     "text": [
      "************ Files used: **************\n",
      "-> ./experiment_data/S1_S3_price_bis_2.csv\n",
      "-> ./experiment_data/S2_S3_price_bis_2.csv\n",
      "-> ./experiment_data/S3_S3_price_bis_2.csv\n",
      "-> ./experiment_data/S4_S3_price_bis_2.csv\n",
      "-> ./experiment_data/S4_S3_price_2.csv\n",
      "-> ./experiment_data/S5_S3_price_bis_2.csv\n",
      "-> ./experiment_data/S6_S3_price_bis_2.csv\n"
     ]
    },
    {
     "data": {
      "text/html": [
       "<div>\n",
       "<style scoped>\n",
       "    .dataframe tbody tr th:only-of-type {\n",
       "        vertical-align: middle;\n",
       "    }\n",
       "\n",
       "    .dataframe tbody tr th {\n",
       "        vertical-align: top;\n",
       "    }\n",
       "\n",
       "    .dataframe thead th {\n",
       "        text-align: right;\n",
       "    }\n",
       "</style>\n",
       "<table border=\"1\" class=\"dataframe\">\n",
       "  <thead>\n",
       "    <tr style=\"text-align: right;\">\n",
       "      <th></th>\n",
       "      <th>S3</th>\n",
       "    </tr>\n",
       "  </thead>\n",
       "  <tbody>\n",
       "    <tr>\n",
       "      <th>S1</th>\n",
       "      <td>[136026.35, 131747.5*]</td>\n",
       "    </tr>\n",
       "    <tr>\n",
       "      <th>S2</th>\n",
       "      <td>[194366.5, 142389.5*]</td>\n",
       "    </tr>\n",
       "    <tr>\n",
       "      <th>S3</th>\n",
       "      <td>[180784.25, 149406.0*]</td>\n",
       "    </tr>\n",
       "    <tr>\n",
       "      <th>S4</th>\n",
       "      <td>[224823.38*, 239784.5*]</td>\n",
       "    </tr>\n",
       "    <tr>\n",
       "      <th>S5</th>\n",
       "      <td>[142405.5, 119375.25*]</td>\n",
       "    </tr>\n",
       "    <tr>\n",
       "      <th>S6</th>\n",
       "      <td>[144640.0, 111529.5*]</td>\n",
       "    </tr>\n",
       "  </tbody>\n",
       "</table>\n",
       "</div>"
      ],
      "text/plain": [
       "                         S3\n",
       "S1   [136026.35, 131747.5*]\n",
       "S2    [194366.5, 142389.5*]\n",
       "S3   [180784.25, 149406.0*]\n",
       "S4  [224823.38*, 239784.5*]\n",
       "S5   [142405.5, 119375.25*]\n",
       "S6    [144640.0, 111529.5*]"
      ]
     },
     "metadata": {},
     "output_type": "display_data"
    }
   ],
   "source": [
    "construct_payoff_table_for_weightings(['S3'], 6, 1, '_price_bis_', 2, general_index_for_S2_S3_single_column, 0, 2)"
   ]
  },
  {
   "cell_type": "code",
   "execution_count": 132,
   "metadata": {},
   "outputs": [
    {
     "name": "stdout",
     "output_type": "stream",
     "text": [
      "************ Files used: **************\n",
      "-> ./experiment_data/S2_S1_price_bis_2.csv\n",
      "-> ./experiment_data/S2_S1_price_2.csv\n",
      "-> ./experiment_data/S2_S2_price_bis_2.csv\n",
      "-> ./experiment_data/S2_S3_price_bis_2.csv\n",
      "-> ./experiment_data/S2_S4_price_bis_2.csv\n",
      "-> ./experiment_data/S2_S5_price_bis_2.csv\n",
      "-> ./experiment_data/S2_S6_price_bis_2.csv\n"
     ]
    },
    {
     "data": {
      "text/html": [
       "<div>\n",
       "<style scoped>\n",
       "    .dataframe tbody tr th:only-of-type {\n",
       "        vertical-align: middle;\n",
       "    }\n",
       "\n",
       "    .dataframe tbody tr th {\n",
       "        vertical-align: top;\n",
       "    }\n",
       "\n",
       "    .dataframe thead th {\n",
       "        text-align: right;\n",
       "    }\n",
       "</style>\n",
       "<table border=\"1\" class=\"dataframe\">\n",
       "  <thead>\n",
       "    <tr style=\"text-align: right;\">\n",
       "      <th></th>\n",
       "      <th>S1</th>\n",
       "      <th>S2</th>\n",
       "      <th>S3</th>\n",
       "      <th>S4</th>\n",
       "      <th>S5</th>\n",
       "      <th>S6</th>\n",
       "    </tr>\n",
       "  </thead>\n",
       "  <tbody>\n",
       "    <tr>\n",
       "      <th>S2</th>\n",
       "      <td>[253094.72*, 230575.55*]</td>\n",
       "      <td>[196914.05*, 216158.3]</td>\n",
       "      <td>[194366.5*, 142389.5]</td>\n",
       "      <td>[108463.7*, 138837.75]</td>\n",
       "      <td>[114539.75*, 113252.0]</td>\n",
       "      <td>[103210.05*, 99662.5]</td>\n",
       "    </tr>\n",
       "  </tbody>\n",
       "</table>\n",
       "</div>"
      ],
      "text/plain": [
       "                          S1                      S2                     S3  \\\n",
       "S2  [253094.72*, 230575.55*]  [196914.05*, 216158.3]  [194366.5*, 142389.5]   \n",
       "\n",
       "                        S4                      S5                     S6  \n",
       "S2  [108463.7*, 138837.75]  [114539.75*, 113252.0]  [103210.05*, 99662.5]  "
      ]
     },
     "metadata": {},
     "output_type": "display_data"
    }
   ],
   "source": [
    "construct_payoff_table_for_weightings(columns_for_S2_S3, 1, 6, '_price_bis_', 2, general_index_for_S2_S3_single_row, 1, 0)\n"
   ]
  },
  {
   "cell_type": "markdown",
   "metadata": {},
   "source": [
    "# Payoff table of Price weight=6 => focus on NE (S2, S3)"
   ]
  },
  {
   "cell_type": "code",
   "execution_count": 133,
   "metadata": {},
   "outputs": [
    {
     "name": "stdout",
     "output_type": "stream",
     "text": [
      "************ Files used: **************\n",
      "-> ./experiment_data/S1_S3_price_bis_6.csv\n",
      "-> ./experiment_data/S2_S3_price_bis_6.csv\n",
      "-> ./experiment_data/S3_S3_price_bis_6.csv\n",
      "-> ./experiment_data/S4_S3_price_bis_6.csv\n",
      "-> ./experiment_data/S4_S3_price_6.csv\n",
      "-> ./experiment_data/S5_S3_price_bis_6.csv\n",
      "-> ./experiment_data/S6_S3_price_bis_6.csv\n"
     ]
    },
    {
     "data": {
      "text/html": [
       "<div>\n",
       "<style scoped>\n",
       "    .dataframe tbody tr th:only-of-type {\n",
       "        vertical-align: middle;\n",
       "    }\n",
       "\n",
       "    .dataframe tbody tr th {\n",
       "        vertical-align: top;\n",
       "    }\n",
       "\n",
       "    .dataframe thead th {\n",
       "        text-align: right;\n",
       "    }\n",
       "</style>\n",
       "<table border=\"1\" class=\"dataframe\">\n",
       "  <thead>\n",
       "    <tr style=\"text-align: right;\">\n",
       "      <th></th>\n",
       "      <th>S3</th>\n",
       "    </tr>\n",
       "  </thead>\n",
       "  <tbody>\n",
       "    <tr>\n",
       "      <th>S1</th>\n",
       "      <td>[141046.7, 117104.25*]</td>\n",
       "    </tr>\n",
       "    <tr>\n",
       "      <th>S2</th>\n",
       "      <td>[148739.3, 116827.75*]</td>\n",
       "    </tr>\n",
       "    <tr>\n",
       "      <th>S3</th>\n",
       "      <td>[114730.5, 91419.25*]</td>\n",
       "    </tr>\n",
       "    <tr>\n",
       "      <th>S4</th>\n",
       "      <td>[167392.5*, 150284.25*]</td>\n",
       "    </tr>\n",
       "    <tr>\n",
       "      <th>S5</th>\n",
       "      <td>[124111.5, 115753.75*]</td>\n",
       "    </tr>\n",
       "    <tr>\n",
       "      <th>S6</th>\n",
       "      <td>[118846.5, 114537.5*]</td>\n",
       "    </tr>\n",
       "  </tbody>\n",
       "</table>\n",
       "</div>"
      ],
      "text/plain": [
       "                         S3\n",
       "S1   [141046.7, 117104.25*]\n",
       "S2   [148739.3, 116827.75*]\n",
       "S3    [114730.5, 91419.25*]\n",
       "S4  [167392.5*, 150284.25*]\n",
       "S5   [124111.5, 115753.75*]\n",
       "S6    [118846.5, 114537.5*]"
      ]
     },
     "metadata": {},
     "output_type": "display_data"
    }
   ],
   "source": [
    "construct_payoff_table_for_weightings(['S3'], 6, 1, '_price_bis_', 6, general_index_for_S2_S3_single_column, 0, 2)"
   ]
  },
  {
   "cell_type": "code",
   "execution_count": 134,
   "metadata": {},
   "outputs": [
    {
     "name": "stdout",
     "output_type": "stream",
     "text": [
      "************ Files used: **************\n",
      "-> ./experiment_data/S2_S1_price_bis_6.csv\n",
      "-> ./experiment_data/S2_S1_price_6.csv\n",
      "-> ./experiment_data/S2_S2_price_bis_6.csv\n",
      "-> ./experiment_data/S2_S3_price_bis_6.csv\n",
      "-> ./experiment_data/S2_S4_price_bis_6.csv\n",
      "-> ./experiment_data/S2_S5_price_bis_6.csv\n",
      "-> ./experiment_data/S2_S6_price_bis_6.csv\n"
     ]
    },
    {
     "data": {
      "text/html": [
       "<div>\n",
       "<style scoped>\n",
       "    .dataframe tbody tr th:only-of-type {\n",
       "        vertical-align: middle;\n",
       "    }\n",
       "\n",
       "    .dataframe tbody tr th {\n",
       "        vertical-align: top;\n",
       "    }\n",
       "\n",
       "    .dataframe thead th {\n",
       "        text-align: right;\n",
       "    }\n",
       "</style>\n",
       "<table border=\"1\" class=\"dataframe\">\n",
       "  <thead>\n",
       "    <tr style=\"text-align: right;\">\n",
       "      <th></th>\n",
       "      <th>S1</th>\n",
       "      <th>S2</th>\n",
       "      <th>S3</th>\n",
       "      <th>S4</th>\n",
       "      <th>S5</th>\n",
       "      <th>S6</th>\n",
       "    </tr>\n",
       "  </thead>\n",
       "  <tbody>\n",
       "    <tr>\n",
       "      <th>S2</th>\n",
       "      <td>[256517.47*, 195554.15*]</td>\n",
       "      <td>[150891.65*, 118761.5]</td>\n",
       "      <td>[148739.3*, 116827.75]</td>\n",
       "      <td>[75196.85*, 70558.0]</td>\n",
       "      <td>[96448.2*, 78840.0]</td>\n",
       "      <td>[67154.5*, 55146.5]</td>\n",
       "    </tr>\n",
       "  </tbody>\n",
       "</table>\n",
       "</div>"
      ],
      "text/plain": [
       "                          S1                      S2                      S3  \\\n",
       "S2  [256517.47*, 195554.15*]  [150891.65*, 118761.5]  [148739.3*, 116827.75]   \n",
       "\n",
       "                      S4                   S5                   S6  \n",
       "S2  [75196.85*, 70558.0]  [96448.2*, 78840.0]  [67154.5*, 55146.5]  "
      ]
     },
     "metadata": {},
     "output_type": "display_data"
    }
   ],
   "source": [
    "construct_payoff_table_for_weightings(columns_for_S2_S3, 1, 6, '_price_bis_', 6, general_index_for_S2_S3_single_row, 1, 0)\n"
   ]
  },
  {
   "cell_type": "markdown",
   "metadata": {},
   "source": [
    "# Payoff table of Price weight=10 => focus on NE (S2, S3)"
   ]
  },
  {
   "cell_type": "code",
   "execution_count": 135,
   "metadata": {},
   "outputs": [
    {
     "name": "stdout",
     "output_type": "stream",
     "text": [
      "************ Files used: **************\n",
      "-> ./experiment_data/S1_S3_price_bis_10.csv\n",
      "-> ./experiment_data/S2_S3_price_bis_10.csv\n",
      "-> ./experiment_data/S3_S3_price_bis_10.csv\n",
      "-> ./experiment_data/S4_S3_price_bis_10.csv\n",
      "-> ./experiment_data/S4_S3_price_10.csv\n",
      "-> ./experiment_data/S5_S3_price_bis_10.csv\n",
      "-> ./experiment_data/S6_S3_price_bis_10.csv\n"
     ]
    },
    {
     "data": {
      "text/html": [
       "<div>\n",
       "<style scoped>\n",
       "    .dataframe tbody tr th:only-of-type {\n",
       "        vertical-align: middle;\n",
       "    }\n",
       "\n",
       "    .dataframe tbody tr th {\n",
       "        vertical-align: top;\n",
       "    }\n",
       "\n",
       "    .dataframe thead th {\n",
       "        text-align: right;\n",
       "    }\n",
       "</style>\n",
       "<table border=\"1\" class=\"dataframe\">\n",
       "  <thead>\n",
       "    <tr style=\"text-align: right;\">\n",
       "      <th></th>\n",
       "      <th>S3</th>\n",
       "    </tr>\n",
       "  </thead>\n",
       "  <tbody>\n",
       "    <tr>\n",
       "      <th>S1</th>\n",
       "      <td>[145578.7*, 111322.0*]</td>\n",
       "    </tr>\n",
       "    <tr>\n",
       "      <th>S2</th>\n",
       "      <td>[112578.15, 88997.75*]</td>\n",
       "    </tr>\n",
       "    <tr>\n",
       "      <th>S3</th>\n",
       "      <td>[92956.0, 95276.75*]</td>\n",
       "    </tr>\n",
       "    <tr>\n",
       "      <th>S4</th>\n",
       "      <td>[118569.12, 103293.38*]</td>\n",
       "    </tr>\n",
       "    <tr>\n",
       "      <th>S5</th>\n",
       "      <td>[107967.5, 95881.25*]</td>\n",
       "    </tr>\n",
       "    <tr>\n",
       "      <th>S6</th>\n",
       "      <td>[109644.0, 91476.0*]</td>\n",
       "    </tr>\n",
       "  </tbody>\n",
       "</table>\n",
       "</div>"
      ],
      "text/plain": [
       "                         S3\n",
       "S1   [145578.7*, 111322.0*]\n",
       "S2   [112578.15, 88997.75*]\n",
       "S3     [92956.0, 95276.75*]\n",
       "S4  [118569.12, 103293.38*]\n",
       "S5    [107967.5, 95881.25*]\n",
       "S6     [109644.0, 91476.0*]"
      ]
     },
     "metadata": {},
     "output_type": "display_data"
    }
   ],
   "source": [
    "construct_payoff_table_for_weightings(['S3'], 6, 1, '_price_bis_', 10, general_index_for_S2_S3_single_column, 0, 2)"
   ]
  },
  {
   "cell_type": "code",
   "execution_count": 136,
   "metadata": {},
   "outputs": [
    {
     "name": "stdout",
     "output_type": "stream",
     "text": [
      "************ Files used: **************\n",
      "-> ./experiment_data/S2_S1_price_bis_10.csv\n",
      "-> ./experiment_data/S2_S1_price_10.csv\n",
      "-> ./experiment_data/S2_S2_price_bis_10.csv\n",
      "-> ./experiment_data/S2_S3_price_bis_10.csv\n",
      "-> ./experiment_data/S2_S4_price_bis_10.csv\n",
      "-> ./experiment_data/S2_S5_price_bis_10.csv\n",
      "-> ./experiment_data/S2_S6_price_bis_10.csv\n"
     ]
    },
    {
     "data": {
      "text/html": [
       "<div>\n",
       "<style scoped>\n",
       "    .dataframe tbody tr th:only-of-type {\n",
       "        vertical-align: middle;\n",
       "    }\n",
       "\n",
       "    .dataframe tbody tr th {\n",
       "        vertical-align: top;\n",
       "    }\n",
       "\n",
       "    .dataframe thead th {\n",
       "        text-align: right;\n",
       "    }\n",
       "</style>\n",
       "<table border=\"1\" class=\"dataframe\">\n",
       "  <thead>\n",
       "    <tr style=\"text-align: right;\">\n",
       "      <th></th>\n",
       "      <th>S1</th>\n",
       "      <th>S2</th>\n",
       "      <th>S3</th>\n",
       "      <th>S4</th>\n",
       "      <th>S5</th>\n",
       "      <th>S6</th>\n",
       "    </tr>\n",
       "  </thead>\n",
       "  <tbody>\n",
       "    <tr>\n",
       "      <th>S2</th>\n",
       "      <td>[229937.97*, 162951.53*]</td>\n",
       "      <td>[112841.2*, 78321.2]</td>\n",
       "      <td>[112578.15*, 88997.75]</td>\n",
       "      <td>[46013.4*, 50646.25]</td>\n",
       "      <td>[98552.75*, 71599.5]</td>\n",
       "      <td>[74543.35*, 53361.0]</td>\n",
       "    </tr>\n",
       "  </tbody>\n",
       "</table>\n",
       "</div>"
      ],
      "text/plain": [
       "                          S1                    S2                      S3  \\\n",
       "S2  [229937.97*, 162951.53*]  [112841.2*, 78321.2]  [112578.15*, 88997.75]   \n",
       "\n",
       "                      S4                    S5                    S6  \n",
       "S2  [46013.4*, 50646.25]  [98552.75*, 71599.5]  [74543.35*, 53361.0]  "
      ]
     },
     "metadata": {},
     "output_type": "display_data"
    }
   ],
   "source": [
    "construct_payoff_table_for_weightings(columns_for_S2_S3, 1, 6, '_price_bis_', 10, general_index_for_S2_S3_single_row, 1, 0)\n"
   ]
  },
  {
   "cell_type": "code",
   "execution_count": null,
   "metadata": {},
   "outputs": [],
   "source": []
  }
 ],
 "metadata": {
  "kernelspec": {
   "display_name": "Python 3",
   "language": "python",
   "name": "python3"
  },
  "language_info": {
   "codemirror_mode": {
    "name": "ipython",
    "version": 3
   },
   "file_extension": ".py",
   "mimetype": "text/x-python",
   "name": "python",
   "nbconvert_exporter": "python",
   "pygments_lexer": "ipython3",
   "version": "3.7.1"
  }
 },
 "nbformat": 4,
 "nbformat_minor": 2
}
