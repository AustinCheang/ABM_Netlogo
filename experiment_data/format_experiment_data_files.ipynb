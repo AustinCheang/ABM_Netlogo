{
 "cells": [
  {
   "cell_type": "code",
   "execution_count": 1,
   "metadata": {},
   "outputs": [],
   "source": [
    "from glob import glob\n",
    "import os"
   ]
  },
  {
   "cell_type": "code",
   "execution_count": 4,
   "metadata": {},
   "outputs": [],
   "source": [
    "def format_files(pathname):\n",
    "    files = glob(pathname)\n",
    "    print(files)\n",
    "    for file in files:\n",
    "        # base_name = os.path.basename(file)\n",
    "        new_name = os.path.basename(file).split(\" \")[1].split(\"-\")[0]\n",
    "        new_name += \".csv\"\n",
    "        print(f\"basename: {new_name}\")\n",
    "        os.rename(file, os.path.join('./', new_name))\n"
   ]
  },
  {
   "cell_type": "code",
   "execution_count": 5,
   "metadata": {},
   "outputs": [
    {
     "name": "stdout",
     "output_type": "stream",
     "text": [
      "['/Users/austincheang/Documents/retailers_model_new S3_S6_D_10-spreadsheet.csv', '/Users/austincheang/Documents/retailers_model_new S4_S2_D_10-spreadsheet.csv', '/Users/austincheang/Documents/retailers_model_new S6_S6_D_6-spreadsheet.csv', '/Users/austincheang/Documents/retailers_model_new S5_S1_D_6-spreadsheet.csv', '/Users/austincheang/Documents/retailers_model_new S5_S2_D_6-spreadsheet.csv', '/Users/austincheang/Documents/retailers_model_new S6_S5_D_6-spreadsheet.csv', '/Users/austincheang/Documents/retailers_model_new S5_S3_D_6-spreadsheet.csv', '/Users/austincheang/Documents/retailers_model_new S5_S5_D_10-spreadsheet.csv', '/Users/austincheang/Documents/retailers_model_new S6_S4_D_6-spreadsheet.csv', '/Users/austincheang/Documents/retailers_model_new S5_S5_D_6-spreadsheet.csv', '/Users/austincheang/Documents/retailers_model_new S6_S2_D_6-spreadsheet.csv', '/Users/austincheang/Documents/retailers_model_new S5_S4_D_6-spreadsheet.csv', '/Users/austincheang/Documents/retailers_model_new S6_S3_D_6-spreadsheet.csv', '/Users/austincheang/Documents/retailers_model_new S6_S1_D_10-spreadsheet.csv', '/Users/austincheang/Documents/retailers_model_new S6_S4_D_10-spreadsheet.csv', '/Users/austincheang/Documents/retailers_model_new S6_S1_D_6-spreadsheet.csv', '/Users/austincheang/Documents/retailers_model_new S5_S6_D_6-spreadsheet.csv', '/Users/austincheang/Documents/retailers_model_new S5_S1_D_10-spreadsheet.csv', '/Users/austincheang/Documents/retailers_model_new S4_S6_D_6-spreadsheet.csv', '/Users/austincheang/Documents/retailers_model_new S5_S4_D_10-spreadsheet.csv', '/Users/austincheang/Documents/retailers_model_new S4_S3_D_10-spreadsheet.csv', '/Users/austincheang/Documents/retailers_model_new S3_S6_D_6-spreadsheet.csv', '/Users/austincheang/Documents/retailers_model_new S4_S4_D_6-spreadsheet.csv', '/Users/austincheang/Documents/retailers_model_new S4_S6_D_10-spreadsheet.csv', '/Users/austincheang/Documents/retailers_model_new S4_S5_D_6-spreadsheet.csv', '/Users/austincheang/Documents/retailers_model_new S4_S3_D_6-spreadsheet.csv', '/Users/austincheang/Documents/retailers_model_new S4_S2_D_6-spreadsheet.csv', '/Users/austincheang/Documents/retailers_model_new S6_S5_D_10-spreadsheet.csv', '/Users/austincheang/Documents/retailers_model_new S5_S4_2-spreadsheet.csv', '/Users/austincheang/Documents/retailers_model_new S4_S1_D_6-spreadsheet.csv', '/Users/austincheang/Documents/retailers_model_new S5_S2_D_2-spreadsheet.csv', '/Users/austincheang/Documents/retailers_model_new S6_S5_D_2-spreadsheet.csv', '/Users/austincheang/Documents/retailers_model_new S5_S3_D_2-spreadsheet.csv', '/Users/austincheang/Documents/retailers_model_new S6_S4_D_2-spreadsheet.csv', '/Users/austincheang/Documents/retailers_model_new S6_S6_D_10-spreadsheet.csv', '/Users/austincheang/Documents/retailers_model_new S6_S6_D_2-spreadsheet.csv', '/Users/austincheang/Documents/retailers_model_new S5_S1_D_2-spreadsheet.csv', '/Users/austincheang/Documents/retailers_model_new S6_S3_D_10-spreadsheet.csv', '/Users/austincheang/Documents/retailers_model_new S4_S5_D_10-spreadsheet.csv', '/Users/austincheang/Documents/retailers_model_new S6_S1_D_2-spreadsheet.csv', '/Users/austincheang/Documents/retailers_model_new S5_S6_D_2-spreadsheet.csv', '/Users/austincheang/Documents/retailers_model_new S5_S5_D_2-spreadsheet.csv', '/Users/austincheang/Documents/retailers_model_new S6_S2_D_2-spreadsheet.csv', '/Users/austincheang/Documents/retailers_model_new S5_S2_D_10-spreadsheet.csv', '/Users/austincheang/Documents/retailers_model_new S4_S1_D_4-spreadsheet.csv', '/Users/austincheang/Documents/retailers_model_new S6_S3_D_2-spreadsheet.csv', '/Users/austincheang/Documents/retailers_model_new S3_S6_D_2-spreadsheet.csv', '/Users/austincheang/Documents/retailers_model_new S4_S4_D_2-spreadsheet.csv', '/Users/austincheang/Documents/retailers_model_new S6_S2_D_10-spreadsheet.csv', '/Users/austincheang/Documents/retailers_model_new S4_S5_D_2-spreadsheet.csv', '/Users/austincheang/Documents/retailers_model_new S4_S6_D_2-spreadsheet.csv', '/Users/austincheang/Documents/retailers_model_new S4_S1_D_2-spreadsheet.csv', '/Users/austincheang/Documents/retailers_model_new S5_S6_D_10-spreadsheet.csv', '/Users/austincheang/Documents/retailers_model_new S5_S3_D_10-spreadsheet.csv', '/Users/austincheang/Documents/retailers_model_new S4_S4_D_10-spreadsheet.csv', '/Users/austincheang/Documents/retailers_model_new S4_S3_D_2-spreadsheet.csv', '/Users/austincheang/Documents/retailers_model_new S4_S2_D_2-spreadsheet.csv', '/Users/austincheang/Documents/retailers_model_new S4_S1_D_10-spreadsheet.csv']\n",
      "basename: S3_S6_D_10.csv\n",
      "basename: S4_S2_D_10.csv\n",
      "basename: S6_S6_D_6.csv\n",
      "basename: S5_S1_D_6.csv\n",
      "basename: S5_S2_D_6.csv\n",
      "basename: S6_S5_D_6.csv\n",
      "basename: S5_S3_D_6.csv\n",
      "basename: S5_S5_D_10.csv\n",
      "basename: S6_S4_D_6.csv\n",
      "basename: S5_S5_D_6.csv\n",
      "basename: S6_S2_D_6.csv\n",
      "basename: S5_S4_D_6.csv\n",
      "basename: S6_S3_D_6.csv\n",
      "basename: S6_S1_D_10.csv\n",
      "basename: S6_S4_D_10.csv\n",
      "basename: S6_S1_D_6.csv\n",
      "basename: S5_S6_D_6.csv\n",
      "basename: S5_S1_D_10.csv\n",
      "basename: S4_S6_D_6.csv\n",
      "basename: S5_S4_D_10.csv\n",
      "basename: S4_S3_D_10.csv\n",
      "basename: S3_S6_D_6.csv\n",
      "basename: S4_S4_D_6.csv\n",
      "basename: S4_S6_D_10.csv\n",
      "basename: S4_S5_D_6.csv\n",
      "basename: S4_S3_D_6.csv\n",
      "basename: S4_S2_D_6.csv\n",
      "basename: S6_S5_D_10.csv\n",
      "basename: S5_S4_2.csv\n",
      "basename: S4_S1_D_6.csv\n",
      "basename: S5_S2_D_2.csv\n",
      "basename: S6_S5_D_2.csv\n",
      "basename: S5_S3_D_2.csv\n",
      "basename: S6_S4_D_2.csv\n",
      "basename: S6_S6_D_10.csv\n",
      "basename: S6_S6_D_2.csv\n",
      "basename: S5_S1_D_2.csv\n",
      "basename: S6_S3_D_10.csv\n",
      "basename: S4_S5_D_10.csv\n",
      "basename: S6_S1_D_2.csv\n",
      "basename: S5_S6_D_2.csv\n",
      "basename: S5_S5_D_2.csv\n",
      "basename: S6_S2_D_2.csv\n",
      "basename: S5_S2_D_10.csv\n",
      "basename: S4_S1_D_4.csv\n",
      "basename: S6_S3_D_2.csv\n",
      "basename: S3_S6_D_2.csv\n",
      "basename: S4_S4_D_2.csv\n",
      "basename: S6_S2_D_10.csv\n",
      "basename: S4_S5_D_2.csv\n",
      "basename: S4_S6_D_2.csv\n",
      "basename: S4_S1_D_2.csv\n",
      "basename: S5_S6_D_10.csv\n",
      "basename: S5_S3_D_10.csv\n",
      "basename: S4_S4_D_10.csv\n",
      "basename: S4_S3_D_2.csv\n",
      "basename: S4_S2_D_2.csv\n",
      "basename: S4_S1_D_10.csv\n"
     ]
    }
   ],
   "source": [
    "pathname = \"/Users/austincheang/Documents/retailer*\"\n",
    "format_files(pathname)"
   ]
  },
  {
   "cell_type": "code",
   "execution_count": null,
   "metadata": {},
   "outputs": [],
   "source": []
  }
 ],
 "metadata": {
  "kernelspec": {
   "display_name": "quant",
   "language": "python",
   "name": "python3"
  },
  "language_info": {
   "codemirror_mode": {
    "name": "ipython",
    "version": 3
   },
   "file_extension": ".py",
   "mimetype": "text/x-python",
   "name": "python",
   "nbconvert_exporter": "python",
   "pygments_lexer": "ipython3",
   "version": "3.10.4"
  },
  "orig_nbformat": 4
 },
 "nbformat": 4,
 "nbformat_minor": 2
}
