{
 "cells": [
  {
   "cell_type": "code",
   "execution_count": 4,
   "metadata": {},
   "outputs": [],
   "source": [
    "from glob import glob\n",
    "import os"
   ]
  },
  {
   "cell_type": "code",
   "execution_count": 5,
   "metadata": {},
   "outputs": [],
   "source": [
    "def format_files(pathname):\n",
    "    files = glob(pathname)\n",
    "    print(files)\n",
    "    for file in files:\n",
    "        # base_name = os.path.basename(file)\n",
    "        new_name = os.path.basename(file).split(\" \")[1].split(\"-\")[0]\n",
    "        new_name += \".csv\"\n",
    "        print(f\"basename: {new_name}\")\n",
    "        os.rename(file, os.path.join('./', new_name))\n"
   ]
  },
  {
   "cell_type": "code",
   "execution_count": 6,
   "metadata": {},
   "outputs": [
    {
     "name": "stdout",
     "output_type": "stream",
     "text": [
      "['/Users/austincheang/Documents/retailers_model_new S2_S3_W_10-spreadsheet.csv', '/Users/austincheang/Documents/retailers_model_new S4_S1_W_10-spreadsheet.csv', '/Users/austincheang/Documents/retailers_model_new S2_S3_W_6-spreadsheet.csv']\n",
      "basename: S2_S3_W_10.csv\n",
      "basename: S4_S1_W_10.csv\n",
      "basename: S2_S3_W_6.csv\n"
     ]
    }
   ],
   "source": [
    "pathname = \"/Users/austincheang/Documents/retailer*\"\n",
    "format_files(pathname)"
   ]
  },
  {
   "cell_type": "code",
   "execution_count": null,
   "metadata": {},
   "outputs": [],
   "source": []
  }
 ],
 "metadata": {
  "kernelspec": {
   "display_name": "Python 3",
   "language": "python",
   "name": "python3"
  },
  "language_info": {
   "codemirror_mode": {
    "name": "ipython",
    "version": 3
   },
   "file_extension": ".py",
   "mimetype": "text/x-python",
   "name": "python",
   "nbconvert_exporter": "python",
   "pygments_lexer": "ipython3",
   "version": "3.7.1"
  }
 },
 "nbformat": 4,
 "nbformat_minor": 2
}
