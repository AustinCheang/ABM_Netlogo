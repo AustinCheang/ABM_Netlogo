{
 "cells": [
  {
   "cell_type": "code",
   "execution_count": 1,
   "metadata": {},
   "outputs": [],
   "source": [
    "from glob import glob\n",
    "import os"
   ]
  },
  {
   "cell_type": "code",
   "execution_count": 2,
   "metadata": {},
   "outputs": [],
   "source": [
    "def format_files(pathname):\n",
    "    files = glob(pathname)\n",
    "    print(files)\n",
    "    for file in files:\n",
    "        # base_name = os.path.basename(file)\n",
    "        new_name = os.path.basename(file).split(\" \")[1].split(\"-\")[0]\n",
    "        new_name += \".csv\"\n",
    "        print(f\"basename: {new_name}\")\n",
    "        os.rename(file, os.path.join('./', new_name))\n"
   ]
  },
  {
   "cell_type": "code",
   "execution_count": 3,
   "metadata": {},
   "outputs": [
    {
     "name": "stdout",
     "output_type": "stream",
     "text": [
      "['/Users/austincheang/Documents/retailers_model_new S1_S2_price_10-spreadsheet.csv', '/Users/austincheang/Documents/retailers_model_new S1_S6_price_10-spreadsheet.csv', '/Users/austincheang/Documents/retailers_model_new S6_S5_price_10-spreadsheet.csv', '/Users/austincheang/Documents/retailers_model_new S3_S5_price_10-spreadsheet.csv', '/Users/austincheang/Documents/retailers_model_new S5_S2_price_10-spreadsheet.csv', '/Users/austincheang/Documents/retailers_model_new S5_S6_price_10-spreadsheet.csv', '/Users/austincheang/Documents/retailers_model_new S6_S4_price_10-spreadsheet.csv', '/Users/austincheang/Documents/retailers_model_new S3_S4_price_10-spreadsheet.csv', '/Users/austincheang/Documents/retailers_model_new S3_S2_price_10-spreadsheet.csv', '/Users/austincheang/Documents/retailers_model_new S3_S6_price_10-spreadsheet.csv', '/Users/austincheang/Documents/retailers_model_new S_1_S4_price_10-spreadsheet.csv', '/Users/austincheang/Documents/retailers_model_new S6_S2_price_10-spreadsheet.csv', '/Users/austincheang/Documents/retailers_model_new S1_S5_price_10-spreadsheet.csv', '/Users/austincheang/Documents/retailers_model_new S6_S6_price_10-spreadsheet.csv', '/Users/austincheang/Documents/retailers_model_new S_5_S4_price_10-spreadsheet.csv', '/Users/austincheang/Documents/retailers_model_new S5_S5_price_10-spreadsheet.csv']\n",
      "basename: S1_S2_price_10.csv\n",
      "basename: S1_S6_price_10.csv\n",
      "basename: S6_S5_price_10.csv\n",
      "basename: S3_S5_price_10.csv\n",
      "basename: S5_S2_price_10.csv\n",
      "basename: S5_S6_price_10.csv\n",
      "basename: S6_S4_price_10.csv\n",
      "basename: S3_S4_price_10.csv\n",
      "basename: S3_S2_price_10.csv\n",
      "basename: S3_S6_price_10.csv\n",
      "basename: S_1_S4_price_10.csv\n",
      "basename: S6_S2_price_10.csv\n",
      "basename: S1_S5_price_10.csv\n",
      "basename: S6_S6_price_10.csv\n",
      "basename: S_5_S4_price_10.csv\n",
      "basename: S5_S5_price_10.csv\n"
     ]
    }
   ],
   "source": [
    "pathname = \"/Users/austincheang/Documents/retailer*\"\n",
    "format_files(pathname)"
   ]
  },
  {
   "cell_type": "code",
   "execution_count": 9,
   "metadata": {},
   "outputs": [
    {
     "name": "stdout",
     "output_type": "stream",
     "text": [
      "/Users/austincheang/Desktop/Msc/ABM/ABM_Netlogo/experiment_data/S4_S5_price_6.csv\n",
      "/Users/austincheang/Desktop/Msc/ABM/ABM_Netlogo/experiment_data/S2_S2_price_bis_6.csv\n",
      "/Users/austincheang/Desktop/Msc/ABM/ABM_Netlogo/experiment_data/S2_S5_price_bis_2.csv\n",
      "/Users/austincheang/Desktop/Msc/ABM/ABM_Netlogo/experiment_data/S2_S1_price_bis_10.csv\n",
      "/Users/austincheang/Desktop/Msc/ABM/ABM_Netlogo/experiment_data/S4_S3_price_bis_6.csv\n",
      "/Users/austincheang/Desktop/Msc/ABM/ABM_Netlogo/experiment_data/S2_S5_price_bis_10.csv\n",
      "/Users/austincheang/Desktop/Msc/ABM/ABM_Netlogo/experiment_data/S4_S3_price_bis_2.csv\n",
      "/Users/austincheang/Desktop/Msc/ABM/ABM_Netlogo/experiment_data/S2_S2_price_bis_2.csv\n",
      "/Users/austincheang/Desktop/Msc/ABM/ABM_Netlogo/experiment_data/S2_S5_price_bis_6.csv\n",
      "/Users/austincheang/Desktop/Msc/ABM/ABM_Netlogo/experiment_data/S4_S5_price_2.csv\n",
      "/Users/austincheang/Desktop/Msc/ABM/ABM_Netlogo/experiment_data/S4_S3_price_6.csv\n",
      "/Users/austincheang/Desktop/Msc/ABM/ABM_Netlogo/experiment_data/S4_S6_price_2.csv\n",
      "/Users/austincheang/Desktop/Msc/ABM/ABM_Netlogo/experiment_data/S4_S5_price_10.csv\n",
      "/Users/austincheang/Desktop/Msc/ABM/ABM_Netlogo/experiment_data/S1_S3_price_bis_6.csv\n",
      "/Users/austincheang/Desktop/Msc/ABM/ABM_Netlogo/experiment_data/S4_S2_price_10.csv\n",
      "/Users/austincheang/Desktop/Msc/ABM/ABM_Netlogo/experiment_data/S2_S4_price_bis_6.csv\n",
      "/Users/austincheang/Desktop/Msc/ABM/ABM_Netlogo/experiment_data/S2_S3_price_bis_2.csv\n",
      "/Users/austincheang/Desktop/Msc/ABM/ABM_Netlogo/experiment_data/S6_S1_price_10.csv\n",
      "/Users/austincheang/Desktop/Msc/ABM/ABM_Netlogo/experiment_data/S2_S4_price_bis_2.csv\n",
      "/Users/austincheang/Desktop/Msc/ABM/ABM_Netlogo/experiment_data/S1_S1_price_10.csv\n",
      "/Users/austincheang/Desktop/Msc/ABM/ABM_Netlogo/experiment_data/S2_S3_price_bis_6.csv\n",
      "/Users/austincheang/Desktop/Msc/ABM/ABM_Netlogo/experiment_data/S1_S3_price_bis_2.csv\n",
      "/Users/austincheang/Desktop/Msc/ABM/ABM_Netlogo/experiment_data/S2_S4_price_bis_10.csv\n",
      "/Users/austincheang/Desktop/Msc/ABM/ABM_Netlogo/experiment_data/S4_S6_price_6.csv\n",
      "/Users/austincheang/Desktop/Msc/ABM/ABM_Netlogo/experiment_data/S4_S3_price_10.csv\n",
      "/Users/austincheang/Desktop/Msc/ABM/ABM_Netlogo/experiment_data/S4_S4_price_10.csv\n",
      "/Users/austincheang/Desktop/Msc/ABM/ABM_Netlogo/experiment_data/S4_S3_price_2.csv\n",
      "/Users/austincheang/Desktop/Msc/ABM/ABM_Netlogo/experiment_data/S3_S3_price_bis_6.csv\n",
      "/Users/austincheang/Desktop/Msc/ABM/ABM_Netlogo/experiment_data/S5_S1_price_2.csv\n",
      "/Users/austincheang/Desktop/Msc/ABM/ABM_Netlogo/experiment_data/S4_S1_price_6.csv\n",
      "/Users/austincheang/Desktop/Msc/ABM/ABM_Netlogo/experiment_data/S2_S3_price_bis_10.csv\n",
      "/Users/austincheang/Desktop/Msc/ABM/ABM_Netlogo/experiment_data/S4_S4_price_2.csv\n",
      "/Users/austincheang/Desktop/Msc/ABM/ABM_Netlogo/experiment_data/S3_S3_price_bis_10.csv\n",
      "/Users/austincheang/Desktop/Msc/ABM/ABM_Netlogo/experiment_data/S2_S1_price_2.csv\n",
      "/Users/austincheang/Desktop/Msc/ABM/ABM_Netlogo/experiment_data/S3_S1_price_6.csv\n",
      "/Users/austincheang/Desktop/Msc/ABM/ABM_Netlogo/experiment_data/S1_S3_price_bis_10.csv\n",
      "/Users/austincheang/Desktop/Msc/ABM/ABM_Netlogo/experiment_data/S4_S6_price_10.csv\n",
      "/Users/austincheang/Desktop/Msc/ABM/ABM_Netlogo/experiment_data/S2_S6_price_bis_6.csv\n",
      "/Users/austincheang/Desktop/Msc/ABM/ABM_Netlogo/experiment_data/S4_S1_price_10.csv\n",
      "/Users/austincheang/Desktop/Msc/ABM/ABM_Netlogo/experiment_data/S2_S1_price_bis_2.csv\n",
      "/Users/austincheang/Desktop/Msc/ABM/ABM_Netlogo/experiment_data/S3_S1_price_10.csv\n",
      "/Users/austincheang/Desktop/Msc/ABM/ABM_Netlogo/experiment_data/S2_S6_price_bis_2.csv\n",
      "/Users/austincheang/Desktop/Msc/ABM/ABM_Netlogo/experiment_data/S2_S1_price_bis_6.csv\n",
      "/Users/austincheang/Desktop/Msc/ABM/ABM_Netlogo/experiment_data/S3_S1_price_2.csv\n",
      "/Users/austincheang/Desktop/Msc/ABM/ABM_Netlogo/experiment_data/S6_S3_price_bis_10.csv\n",
      "/Users/austincheang/Desktop/Msc/ABM/ABM_Netlogo/experiment_data/format_experiment_data_files.ipynb\n",
      "/Users/austincheang/Desktop/Msc/ABM/ABM_Netlogo/experiment_data/S2_S1_price_6.csv\n",
      "/Users/austincheang/Desktop/Msc/ABM/ABM_Netlogo/experiment_data/S4_S4_price_6.csv\n",
      "/Users/austincheang/Desktop/Msc/ABM/ABM_Netlogo/experiment_data/S5_S3_price_bis_10.csv\n",
      "/Users/austincheang/Desktop/Msc/ABM/ABM_Netlogo/experiment_data/S4_S1_price_2.csv\n",
      "/Users/austincheang/Desktop/Msc/ABM/ABM_Netlogo/experiment_data/S4_S3_price_bis_10.csv\n",
      "/Users/austincheang/Desktop/Msc/ABM/ABM_Netlogo/experiment_data/S3_S3_price_bis_2.csv\n",
      "/Users/austincheang/Desktop/Msc/ABM/ABM_Netlogo/experiment_data/S5_S1_price_6.csv\n",
      "/Users/austincheang/Desktop/Msc/ABM/ABM_Netlogo/experiment_data/S2_S1_price_10.csv\n",
      "/Users/austincheang/Desktop/Msc/ABM/ABM_Netlogo/experiment_data/S4_S2_price_2.csv\n",
      "/Users/austincheang/Desktop/Msc/ABM/ABM_Netlogo/experiment_data/S2_S2_price_bis_10.csv\n",
      "/Users/austincheang/Desktop/Msc/ABM/ABM_Netlogo/experiment_data/S5_S3_price_bis_2.csv\n",
      "/Users/austincheang/Desktop/Msc/ABM/ABM_Netlogo/experiment_data/S6_S1_price_2.csv\n",
      "/Users/austincheang/Desktop/Msc/ABM/ABM_Netlogo/experiment_data/S6_S3_price_bis_6.csv\n",
      "/Users/austincheang/Desktop/Msc/ABM/ABM_Netlogo/experiment_data/S1_S1_price_2.csv\n",
      "/Users/austincheang/Desktop/Msc/ABM/ABM_Netlogo/experiment_data/S1_S1_price_6.csv\n",
      "/Users/austincheang/Desktop/Msc/ABM/ABM_Netlogo/experiment_data/S6_S3_price_bis_2.csv\n",
      "/Users/austincheang/Desktop/Msc/ABM/ABM_Netlogo/experiment_data/S6_S1_price_6.csv\n",
      "/Users/austincheang/Desktop/Msc/ABM/ABM_Netlogo/experiment_data/S2_S6_price_bis_10.csv\n",
      "/Users/austincheang/Desktop/Msc/ABM/ABM_Netlogo/experiment_data/S5_S3_price_bis_6.csv\n",
      "/Users/austincheang/Desktop/Msc/ABM/ABM_Netlogo/experiment_data/S4_S2_price_6.csv\n",
      "/Users/austincheang/Desktop/Msc/ABM/ABM_Netlogo/experiment_data/S5_S1_price_10.csv\n"
     ]
    }
   ],
   "source": [
    "for file in glob(\"/Users/austincheang/Desktop/Msc/ABM/ABM_Netlogo/experiment_data/*\"):\n",
    "    print(file)"
   ]
  },
  {
   "cell_type": "code",
   "execution_count": 10,
   "metadata": {},
   "outputs": [],
   "source": [
    "import pandas as pd"
   ]
  },
  {
   "attachments": {},
   "cell_type": "markdown",
   "metadata": {},
   "source": [
    "Retailer 1\n",
    "- S2, S3\n",
    "\n",
    "Retailer 2\n",
    "- S2, S3\n",
    "\n",
    "| |S2|S3|\n",
    "------------\n",
    "|S2| 199878.1, 213157.6  | 221179.05, 236639.5 |\n",
    "|S3| 189831.25, 189783.2 | 172375.5, 125313.75 |\n"
   ]
  },
  {
   "cell_type": "code",
   "execution_count": null,
   "metadata": {},
   "outputs": [],
   "source": [
    "Retailer_1 = dict({'S2': 199878.1, 'S3':})"
   ]
  }
 ],
 "metadata": {
  "kernelspec": {
   "display_name": "quant",
   "language": "python",
   "name": "python3"
  },
  "language_info": {
   "codemirror_mode": {
    "name": "ipython",
    "version": 3
   },
   "file_extension": ".py",
   "mimetype": "text/x-python",
   "name": "python",
   "nbconvert_exporter": "python",
   "pygments_lexer": "ipython3",
   "version": "3.10.4"
  },
  "orig_nbformat": 4
 },
 "nbformat": 4,
 "nbformat_minor": 2
}
