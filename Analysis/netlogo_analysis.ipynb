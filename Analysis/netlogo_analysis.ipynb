{
 "cells": [
  {
   "cell_type": "code",
   "execution_count": 1,
   "metadata": {},
   "outputs": [],
   "source": [
    "import pandas as pd\n",
    "import numpy as np\n",
    "import matplotlib.pyplot as plt\n",
    "import seaborn as sns\n",
    "sns.set_style('white')\n",
    "sns.set_context('talk')\n",
    "import pyNetLogo\n",
    "%matplotlib inline\n",
    "import scipy"
   ]
  },
  {
   "cell_type": "code",
   "execution_count": 2,
   "metadata": {},
   "outputs": [
    {
     "data": {
      "text/plain": [
       "'0.4.2'"
      ]
     },
     "execution_count": 2,
     "metadata": {},
     "output_type": "execute_result"
    }
   ],
   "source": [
    "pyNetLogo.__version__"
   ]
  },
  {
   "cell_type": "code",
   "execution_count": 9,
   "metadata": {},
   "outputs": [
    {
     "ename": "java.lang.NoClassDefFoundError",
     "evalue": "java.lang.NoClassDefFoundError: org/nlogo/workspace/Controllable",
     "output_type": "error",
     "traceback": [
      "\u001b[0;31m---------------------------------------------------------------------------\u001b[0m",
      "\u001b[0;31mjava.lang.ClassNotFoundException\u001b[0m          Traceback (most recent call last)",
      "\u001b[0;32m~/opt/miniconda3/envs/netlogo/lib/python3.7/site-packages/_jpype.cpython-37m-darwin.so\u001b[0m in \u001b[0;36mjava.lang.ClassLoader.loadClass\u001b[0;34m()\u001b[0m\n",
      "\u001b[0;31mjava.lang.ClassNotFoundException\u001b[0m: java.lang.ClassNotFoundException: org.nlogo.workspace.Controllable",
      "\nThe above exception was the direct cause of the following exception:\n",
      "\u001b[0;31mException\u001b[0m                                 Traceback (most recent call last)",
      "\u001b[0;32m~/opt/miniconda3/envs/netlogo/lib/python3.7/site-packages/_jpype.cpython-37m-darwin.so\u001b[0m in \u001b[0;36morg.jpype.manager.TypeManager.findClassByName\u001b[0;34m()\u001b[0m\n",
      "\u001b[0;31mException\u001b[0m: Java Exception",
      "\nThe above exception was the direct cause of the following exception:\n",
      "\u001b[0;31mjava.lang.NoClassDefFoundError\u001b[0m            Traceback (most recent call last)",
      "\u001b[0;32m/var/folders/30/x22wp1ds0bv2wlvkp8dcbg900000gn/T/ipykernel_95815/184450205.py\u001b[0m in \u001b[0;36m<module>\u001b[0;34m\u001b[0m\n\u001b[1;32m      1\u001b[0m \u001b[0;31m# netlogo_home =\u001b[0m\u001b[0;34m\u001b[0m\u001b[0;34m\u001b[0m\u001b[0;34m\u001b[0m\u001b[0m\n\u001b[0;32m----> 2\u001b[0;31m \u001b[0mnetlogo\u001b[0m \u001b[0;34m=\u001b[0m \u001b[0mpyNetLogo\u001b[0m\u001b[0;34m.\u001b[0m\u001b[0mNetLogoLink\u001b[0m\u001b[0;34m(\u001b[0m\u001b[0mgui\u001b[0m\u001b[0;34m=\u001b[0m\u001b[0;32mFalse\u001b[0m\u001b[0;34m,\u001b[0m \u001b[0mnetlogo_home\u001b[0m\u001b[0;34m=\u001b[0m\u001b[0;34m'~/Applications/NetLogo 6.1.1'\u001b[0m\u001b[0;34m)\u001b[0m\u001b[0;34m\u001b[0m\u001b[0;34m\u001b[0m\u001b[0m\n\u001b[0m\u001b[1;32m      3\u001b[0m \u001b[0;34m\u001b[0m\u001b[0m\n\u001b[1;32m      4\u001b[0m \u001b[0;31m# netlogo.command('setup')\u001b[0m\u001b[0;34m\u001b[0m\u001b[0;34m\u001b[0m\u001b[0;34m\u001b[0m\u001b[0m\n",
      "\u001b[0;32m~/opt/miniconda3/envs/netlogo/lib/python3.7/site-packages/pyNetLogo/core.py\u001b[0m in \u001b[0;36m__init__\u001b[0;34m(self, gui, thd, netlogo_home, netlogo_version, jvm_home, jvmargs)\u001b[0m\n\u001b[1;32m    278\u001b[0m                                                     'true')\n\u001b[1;32m    279\u001b[0m \u001b[0;34m\u001b[0m\u001b[0m\n\u001b[0;32m--> 280\u001b[0;31m         \u001b[0mlink\u001b[0m \u001b[0;34m=\u001b[0m \u001b[0mjpype\u001b[0m\u001b[0;34m.\u001b[0m\u001b[0mJClass\u001b[0m\u001b[0;34m(\u001b[0m\u001b[0mclass_name\u001b[0m\u001b[0;34m[\u001b[0m\u001b[0mself\u001b[0m\u001b[0;34m.\u001b[0m\u001b[0mnetlogo_version\u001b[0m\u001b[0;34m]\u001b[0m\u001b[0;34m)\u001b[0m\u001b[0;34m\u001b[0m\u001b[0;34m\u001b[0m\u001b[0m\n\u001b[0m\u001b[1;32m    281\u001b[0m \u001b[0;34m\u001b[0m\u001b[0m\n\u001b[1;32m    282\u001b[0m         \u001b[0;32mif\u001b[0m \u001b[0msys\u001b[0m\u001b[0;34m.\u001b[0m\u001b[0mplatform\u001b[0m \u001b[0;34m==\u001b[0m \u001b[0;34m'darwin'\u001b[0m \u001b[0;32mand\u001b[0m \u001b[0mgui\u001b[0m\u001b[0;34m:\u001b[0m\u001b[0;34m\u001b[0m\u001b[0;34m\u001b[0m\u001b[0m\n",
      "\u001b[0;32m~/opt/miniconda3/envs/netlogo/lib/python3.7/site-packages/jpype/_jclass.py\u001b[0m in \u001b[0;36m__new__\u001b[0;34m(cls, jc, loader, initialize)\u001b[0m\n\u001b[1;32m     97\u001b[0m \u001b[0;34m\u001b[0m\u001b[0m\n\u001b[1;32m     98\u001b[0m         \u001b[0;31m# Pass to class factory to create the type\u001b[0m\u001b[0;34m\u001b[0m\u001b[0;34m\u001b[0m\u001b[0;34m\u001b[0m\u001b[0m\n\u001b[0;32m---> 99\u001b[0;31m         \u001b[0;32mreturn\u001b[0m \u001b[0m_jpype\u001b[0m\u001b[0;34m.\u001b[0m\u001b[0m_getClass\u001b[0m\u001b[0;34m(\u001b[0m\u001b[0mjc\u001b[0m\u001b[0;34m)\u001b[0m\u001b[0;34m\u001b[0m\u001b[0;34m\u001b[0m\u001b[0m\n\u001b[0m\u001b[1;32m    100\u001b[0m \u001b[0;34m\u001b[0m\u001b[0m\n\u001b[1;32m    101\u001b[0m \u001b[0;34m\u001b[0m\u001b[0m\n",
      "\u001b[0;31mjava.lang.NoClassDefFoundError\u001b[0m: java.lang.NoClassDefFoundError: org/nlogo/workspace/Controllable"
     ]
    }
   ],
   "source": [
    "# netlogo_home = \n",
    "netlogo = pyNetLogo.NetLogoLink(gui=False, netlogo_home='~/Applications/NetLogo 6.1.1')\n",
    "\n",
    "# netlogo.command('setup')"
   ]
  },
  {
   "cell_type": "code",
   "execution_count": 19,
   "metadata": {},
   "outputs": [
    {
     "data": {
      "text/plain": [
       "[[0, 7, 14, 21, 28, 35, 42],\n",
       " [1, 8, 15, 22, 29, 36, 43],\n",
       " [2, 9, 16, 23, 30, 37, 44],\n",
       " [3, 10, 17, 24, 31, 38, 45],\n",
       " [4, 11, 18, 25, 32, 39, 46],\n",
       " [5, 12, 19, 26, 33, 40, 47],\n",
       " [6, 13, 20, 27, 34, 41, 48]]"
      ]
     },
     "execution_count": 19,
     "metadata": {},
     "output_type": "execute_result"
    }
   ],
   "source": [
    "import numpy as np\n",
    "np.arange(49).reshape(7,7).T.tolist()"
   ]
  },
  {
   "cell_type": "code",
   "execution_count": null,
   "metadata": {},
   "outputs": [],
   "source": [
    "grid"
   ]
  }
 ],
 "metadata": {
  "kernelspec": {
   "display_name": "netlogo",
   "language": "python",
   "name": "python3"
  },
  "language_info": {
   "codemirror_mode": {
    "name": "ipython",
    "version": 3
   },
   "file_extension": ".py",
   "mimetype": "text/x-python",
   "name": "python",
   "nbconvert_exporter": "python",
   "pygments_lexer": "ipython3",
   "version": "3.7.16"
  },
  "orig_nbformat": 4
 },
 "nbformat": 4,
 "nbformat_minor": 2
}
